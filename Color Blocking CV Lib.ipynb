{
 "cells": [
  {
   "cell_type": "code",
   "execution_count": null,
   "metadata": {
    "collapsed": true
   },
   "outputs": [],
   "source": [
    "import matplotlib.pyplot as plt\n",
    "import numpy as np\n",
    "import cv2\n",
    "\n",
    "# Read in the image\n",
    "image = cv2.imread('stop_sign.jpg')\n",
    "# Convert to RGB\n",
    "image = cv2.cvtColor(image, cv2.COLOR_BGR2RGB)\n",
    "# ---------------------------------------------------------- #\n",
    "\n",
    "\n",
    "\n",
    "## TODO: Define the color selection criteria\n",
    "lower_red = np.array([50,0,0]) \n",
    "upper_red = np.array([255,100,100])\n",
    "\n",
    "# Mask the image \n",
    "masked_image = np.copy(image)\n",
    "\n",
    "mask = cv2.inRange(masked_image, lower_red, upper_red)\n",
    "\n",
    "## TODO: Apply the mask to masked_image\n",
    "## by setting the pixels in the red range to black\n",
    "## Click `Test Run` to display the output before submitting\n",
    "\n",
    "masked_image[mask != 0] = [0,0,0]\n",
    "\n",
    "\n",
    "# ---------------------------------------------------------- #\n",
    "# Display it\n",
    "plt.imshow(masked_image)"
   ]
  },
  {
   "cell_type": "code",
   "execution_count": null,
   "metadata": {
    "collapsed": true
   },
   "outputs": [],
   "source": [
    "HSV: Hue only goes to 180"
   ]
  }
 ],
 "metadata": {
  "anaconda-cloud": {},
  "kernelspec": {
   "display_name": "Python [Root]",
   "language": "python",
   "name": "Python [Root]"
  },
  "language_info": {
   "codemirror_mode": {
    "name": "ipython",
    "version": 2
   },
   "file_extension": ".py",
   "mimetype": "text/x-python",
   "name": "python",
   "nbconvert_exporter": "python",
   "pygments_lexer": "ipython2",
   "version": "2.7.13"
  }
 },
 "nbformat": 4,
 "nbformat_minor": 0
}
